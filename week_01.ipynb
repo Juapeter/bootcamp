{
 "cells": [
  {
   "cell_type": "markdown",
   "id": "e161ead1-f398-4a71-afe5-c2e2d88c707e",
   "metadata": {},
   "source": [
    "#week 1"
   ]
  },
  {
   "cell_type": "code",
   "execution_count": 1,
   "id": "75d617d7-7318-459c-b6cd-539db2f2f052",
   "metadata": {},
   "outputs": [
    {
     "name": "stdout",
     "output_type": "stream",
     "text": [
      "hello, buddy!\n"
     ]
    }
   ],
   "source": [
    "#this is python\n",
    "print(\"hello, buddy!\")"
   ]
  },
  {
   "cell_type": "code",
   "execution_count": null,
   "id": "33965a08-b92d-4244-88eb-ba085278afa3",
   "metadata": {},
   "outputs": [],
   "source": []
  },
  {
   "cell_type": "code",
   "execution_count": 4,
   "id": "164c610d-75b9-48b4-b182-70928f577984",
   "metadata": {},
   "outputs": [
    {
     "name": "stdout",
     "output_type": "stream",
     "text": [
      "Congrats! You did it!\n",
      "it took you 4 guesses.\n"
     ]
    }
   ],
   "source": [
    "###Guessing game\n",
    "from random import randint\n",
    "from IPython.display import clear_output\n",
    "guessed = False\n",
    "number = randint(0, 100)\n",
    "guesses = 0\n",
    "while not guessed:\n",
    "    ans = input(\"try to guess the number i am thinking of between 1 and 100...\")\n",
    "    guesses += 1\n",
    "    clear_output()\n",
    "    if int(ans) == number:\n",
    "            print(\"Congrats! You did it!\")\n",
    "            print(\"it took you {} guesses.\".format(guesses) )\n",
    "            break\n",
    "    elif int(ans) > number:\n",
    "            print(\"the number is lower than what you guessed.\")\n",
    "    elif int(ans) < number:\n",
    "            print(\"the number is greater than what you guessed.\")"
   ]
  },
  {
   "cell_type": "code",
   "execution_count": null,
   "id": "edbec6b5-c1d8-4eab-8201-737a149484c0",
   "metadata": {},
   "outputs": [],
   "source": []
  }
 ],
 "metadata": {
  "kernelspec": {
   "display_name": "Python 3 (ipykernel)",
   "language": "python",
   "name": "python3"
  },
  "language_info": {
   "codemirror_mode": {
    "name": "ipython",
    "version": 3
   },
   "file_extension": ".py",
   "mimetype": "text/x-python",
   "name": "python",
   "nbconvert_exporter": "python",
   "pygments_lexer": "ipython3",
   "version": "3.12.7"
  }
 },
 "nbformat": 4,
 "nbformat_minor": 5
}
