{
 "cells": [
  {
   "cell_type": "code",
   "execution_count": 34,
   "id": "da4db802-2597-4422-8f94-2684e25b799e",
   "metadata": {},
   "outputs": [
    {
     "name": "stdout",
     "output_type": "stream",
     "text": [
      "hello, you!\n",
      "2\n",
      "2 10\n"
     ]
    }
   ],
   "source": [
    "###Comments and basic Data types\n",
    "\"\"\"to write multiple lines and paragraphs of comments you need to use the 3 ' \" ' quotions \n",
    "before and after the paragraph to implement this comment\n",
    "yeah?\n",
    "\"\"\"\n",
    "print(\"hello, you!\") #also comment out like this in a line\n",
    "\n",
    "#basic data types are as follows\n",
    "\n",
    "\"\"\"\n",
    "Data Types Sample Value Description\n",
    "Integer 5 Whole numbers\n",
    "Float 5.7 Decimal numbers\n",
    "Boolean True True or False values\n",
    "String “Hello” Characters within quotes\n",
    "\"\"\"\n",
    "\n",
    "print(2)\n",
    "print(2,10)"
   ]
  },
  {
   "cell_type": "code",
   "execution_count": 2,
   "id": "e5f6f458-dd03-443f-b536-279fa3aeae72",
   "metadata": {},
   "outputs": [
    {
     "name": "stdout",
     "output_type": "stream",
     "text": [
      "JOSH\n"
     ]
    }
   ],
   "source": [
    "name = 'josh'\n",
    "print(name.upper())"
   ]
  },
  {
   "cell_type": "code",
   "execution_count": 2,
   "id": "07f69a80-ba6a-4637-ba17-3f477f5c2757",
   "metadata": {},
   "outputs": [
    {
     "name": "stdout",
     "output_type": "stream",
     "text": [
      "True\n"
     ]
    }
   ],
   "source": [
    "print(True)\n"
   ]
  },
  {
   "cell_type": "code",
   "execution_count": 3,
   "id": "6dfaf99c-70b2-455e-8fc8-afd2927d3185",
   "metadata": {},
   "outputs": [
    {
     "data": {
      "text/plain": [
       "type"
      ]
     },
     "execution_count": 3,
     "metadata": {},
     "output_type": "execute_result"
    }
   ],
   "source": [
    "type(int)"
   ]
  },
  {
   "cell_type": "code",
   "execution_count": 4,
   "id": "35b2d657-2c8b-4246-a524-c3f61a072a7d",
   "metadata": {},
   "outputs": [
    {
     "data": {
      "text/plain": [
       "int"
      ]
     },
     "execution_count": 4,
     "metadata": {},
     "output_type": "execute_result"
    }
   ],
   "source": [
    "type(4)"
   ]
  },
  {
   "cell_type": "code",
   "execution_count": 5,
   "id": "1550cd6a-389d-42a0-b7d2-ca83e7ea9f06",
   "metadata": {},
   "outputs": [
    {
     "data": {
      "text/plain": [
       "float"
      ]
     },
     "execution_count": 5,
     "metadata": {},
     "output_type": "execute_result"
    }
   ],
   "source": [
    "type(8.0) #tells you the type of data is in the input"
   ]
  },
  {
   "cell_type": "code",
   "execution_count": 7,
   "id": "14f950d9-4c4a-4375-ad79-b194eb977b19",
   "metadata": {},
   "outputs": [
    {
     "name": "stdout",
     "output_type": "stream",
     "text": [
      "Baseball\n"
     ]
    }
   ],
   "source": [
    "#variables\n",
    "#includes letters underscores and numbers\n",
    "#cannot start with a number\n",
    "\n",
    "Sport = 'Baseball'\n",
    "print(Sport)"
   ]
  },
  {
   "cell_type": "code",
   "execution_count": 8,
   "id": "d7b89009-3fa7-4cd9-93ce-dca118bbcadf",
   "metadata": {},
   "outputs": [
    {
     "ename": "NameError",
     "evalue": "name 'sport' is not defined",
     "output_type": "error",
     "traceback": [
      "\u001b[1;31m---------------------------------------------------------------------------\u001b[0m",
      "\u001b[1;31mNameError\u001b[0m                                 Traceback (most recent call last)",
      "Cell \u001b[1;32mIn[8], line 2\u001b[0m\n\u001b[0;32m      1\u001b[0m Sport \u001b[38;5;241m=\u001b[39m \u001b[38;5;124m'\u001b[39m\u001b[38;5;124mBaseball\u001b[39m\u001b[38;5;124m'\u001b[39m\n\u001b[1;32m----> 2\u001b[0m \u001b[38;5;28mprint\u001b[39m(sport)\n",
      "\u001b[1;31mNameError\u001b[0m: name 'sport' is not defined"
     ]
    }
   ],
   "source": [
    "Sport = 'Baseball'\n",
    "print(sport) #note capital S not there so error\n"
   ]
  },
  {
   "cell_type": "code",
   "execution_count": 9,
   "id": "def3391a-a993-4ef0-93fd-5fe5ac852c94",
   "metadata": {},
   "outputs": [
    {
     "name": "stdout",
     "output_type": "stream",
     "text": [
      "True\n"
     ]
    }
   ],
   "source": [
    "##Boolean Variables\n",
    "\"\"\"\n",
    "Remember that booleans are True or False values, so storing them is as simple as typing\n",
    "in one of those two words. Let’s write the following:\n",
    "# storing a boolean into a variable\n",
    "\"\"\"\n",
    "switch = True\n",
    "print(switch)\n",
    "#Go ahead and run that cell. The resulted output is “True”. Notice that in Jupyter Notebook, the value of True or False will glow green. This is a good indication if we wrote it correctly."
   ]
  },
  {
   "cell_type": "code",
   "execution_count": 11,
   "id": "8517c9d8-81e0-4fde-a16f-423dd7d2549a",
   "metadata": {},
   "outputs": [
    {
     "name": "stdout",
     "output_type": "stream",
     "text": [
      "Josh Morrow 7\n"
     ]
    }
   ],
   "source": [
    "#variables\n",
    "name = 'Josh Morrow'\n",
    "fav_number = '7'\n",
    "print(name, fav_number)\n"
   ]
  },
  {
   "cell_type": "code",
   "execution_count": 12,
   "id": "ebd0bfcd-19b8-4fe4-9b37-213cec31811c",
   "metadata": {},
   "outputs": [
    {
     "name": "stdout",
     "output_type": "stream",
     "text": [
      "7.3\n"
     ]
    }
   ],
   "source": [
    "addition = 3 + 4.3\n",
    "print(addition)\n"
   ]
  },
  {
   "cell_type": "code",
   "execution_count": 13,
   "id": "0530e053-1879-4c32-85aa-415d0e2b254b",
   "metadata": {},
   "outputs": [
    {
     "name": "stdout",
     "output_type": "stream",
     "text": [
      "Josh\n",
      "aaron\n"
     ]
    }
   ],
   "source": [
    "#overwrite variables...\n",
    "name = 'Josh'\n",
    "print(name)\n",
    "name = 'aaron'\n",
    "print(name)"
   ]
  },
  {
   "cell_type": "code",
   "execution_count": 16,
   "id": "c269dca0-c10b-4335-bedc-ffe3ee250f6a",
   "metadata": {},
   "outputs": [
    {
     "name": "stdout",
     "output_type": "stream",
     "text": [
      "JoshAaron\n"
     ]
    }
   ],
   "source": [
    "name = 'Josh' + 'Aaron'\n",
    "print(name)\n"
   ]
  },
  {
   "cell_type": "code",
   "execution_count": 23,
   "id": "c5f67e36-e58f-4683-98d0-90fe6978aceb",
   "metadata": {},
   "outputs": [
    {
     "name": "stdout",
     "output_type": "stream",
     "text": [
      "Josh M\n"
     ]
    }
   ],
   "source": [
    "first_name = \"Josh\"\n",
    "last_name = \"M\"\n",
    "full_name = first_name + \" \" + last_name #this gives a space between the name as empty space is not generally coded for \n",
    "print(full_name)"
   ]
  },
  {
   "cell_type": "code",
   "execution_count": 24,
   "id": "fee5a761-ca7f-40ce-aa7d-33ee6f602e11",
   "metadata": {},
   "outputs": [
    {
     "name": "stdout",
     "output_type": "stream",
     "text": [
      "hello josh, you are 28 years young!\n"
     ]
    }
   ],
   "source": [
    "#Format function for inserting variables into a string text or location\n",
    "\n",
    "name = \"josh\"\n",
    "print(\"hello {}, you are {} years young!\" .format(name, 28))"
   ]
  },
  {
   "cell_type": "code",
   "execution_count": 25,
   "id": "cdb60ccf-87c7-498f-90b0-70f71b5f808a",
   "metadata": {},
   "outputs": [
    {
     "name": "stdout",
     "output_type": "stream",
     "text": [
      "Hello josh\n"
     ]
    }
   ],
   "source": [
    "#alternate way to inject format functions\n",
    "\n",
    "name = \"josh\"\n",
    "print(f\"Hello {name}\")"
   ]
  },
  {
   "cell_type": "code",
   "execution_count": 27,
   "id": "c83972a5-cd0a-4389-b52f-73918c32f492",
   "metadata": {},
   "outputs": [
    {
     "name": "stdout",
     "output_type": "stream",
     "text": [
      "Hello josh, you are 23 years old\n"
     ]
    }
   ],
   "source": [
    "name = \"josh\"\n",
    "age = 23\n",
    "print(f\"Hello {name}, you are {age} years old\")"
   ]
  },
  {
   "cell_type": "code",
   "execution_count": 28,
   "id": "c083e6ff-1370-4fc2-aa09-4c075891ed19",
   "metadata": {},
   "outputs": [
    {
     "name": "stdout",
     "output_type": "stream",
     "text": [
      "hello, Josh M\n"
     ]
    }
   ],
   "source": [
    "#python 2 does it a few different ways for injecting formats - dumb!\n",
    "\n",
    "#use %s to indicate location in string and then define variables at end using % variable, or %(variable1, variable2)\n",
    "\n",
    "first = 'Josh'\n",
    "last = 'M'\n",
    "print(\"hello, %s %s\" %(first, last))\n",
    "\n",
    "##?? why do we need to define things with \" or just '?"
   ]
  },
  {
   "cell_type": "code",
   "execution_count": 29,
   "id": "5bcc8ada-632f-472b-8501-caab7b541932",
   "metadata": {},
   "outputs": [
    {
     "name": "stdout",
     "output_type": "stream",
     "text": [
      "H\n",
      "e\n",
      "o\n"
     ]
    }
   ],
   "source": [
    "# using indexes to print each element\n",
    "'''Think of\n",
    "an index as a position in a line that you’re waiting in at the mall. If you were at the front\n",
    "of the line, you would be given an index number of zero.\n",
    "but it is not just a line but more a repeating circle which goes from last position to first and vice versa'''\n",
    "word = \"Hello\"\n",
    "print( word[ 0 ] ) # will output 'H'\n",
    "print( word[ 1 ] ) # will output 'e'\n",
    "print( word[ -1 ] ) # will output 'o'"
   ]
  },
  {
   "cell_type": "code",
   "execution_count": 30,
   "id": "3ce3dd2a-c303-4916-b49f-49c9495294ee",
   "metadata": {},
   "outputs": [
    {
     "name": "stdout",
     "output_type": "stream",
     "text": [
      "he\n"
     ]
    }
   ],
   "source": [
    "word = \"hello\"\n",
    "print(word[0:2])"
   ]
  },
  {
   "cell_type": "code",
   "execution_count": 33,
   "id": "01451ad7-6f08-45db-8052-f9cce1494800",
   "metadata": {},
   "outputs": [
    {
     "name": "stdout",
     "output_type": "stream",
     "text": [
      "hl\n"
     ]
    }
   ],
   "source": [
    "###OR\n",
    "#variable_name[ start : stop : step ]\n",
    "word = \"hello\"\n",
    "print(word[0:4:2])"
   ]
  },
  {
   "cell_type": "markdown",
   "id": "7d2c07ee-3b31-46fa-ac1a-9477fbd4baba",
   "metadata": {},
   "source": [
    "###exercises\n",
    "\n",
    "print(int)"
   ]
  },
  {
   "cell_type": "code",
   "execution_count": 36,
   "id": "73795866-bd44-48c1-a9f9-ae78e794a4f5",
   "metadata": {},
   "outputs": [
    {
     "data": {
      "text/plain": [
       "bool"
      ]
     },
     "execution_count": 36,
     "metadata": {},
     "output_type": "execute_result"
    }
   ],
   "source": [
    "type(False)"
   ]
  },
  {
   "cell_type": "code",
   "execution_count": 37,
   "id": "cc81c519-b919-45b2-bee1-70ac79c20bb3",
   "metadata": {},
   "outputs": [
    {
     "data": {
      "text/plain": [
       "float"
      ]
     },
     "execution_count": 37,
     "metadata": {},
     "output_type": "execute_result"
    }
   ],
   "source": [
    "type(5.8)"
   ]
  },
  {
   "cell_type": "code",
   "execution_count": 39,
   "id": "7193289e-9b8e-4a6f-926c-1e3da46d78db",
   "metadata": {},
   "outputs": [
    {
     "data": {
      "text/plain": [
       "str"
      ]
     },
     "execution_count": 39,
     "metadata": {},
     "output_type": "execute_result"
    }
   ],
   "source": [
    "type('hello')"
   ]
  },
  {
   "cell_type": "code",
   "execution_count": 40,
   "id": "5a5ac263-996c-40d6-a702-63155f0378a7",
   "metadata": {},
   "outputs": [
    {
     "name": "stdout",
     "output_type": "stream",
     "text": [
      "<class 'int'> <class 'bool'> <class 'float'> <class 'str'>\n"
     ]
    }
   ],
   "source": [
    "print(int,bool,float,str)"
   ]
  },
  {
   "cell_type": "code",
   "execution_count": 42,
   "id": "85454520-a51b-4ed4-af5c-a179e75f9448",
   "metadata": {},
   "outputs": [
    {
     "name": "stdout",
     "output_type": "stream",
     "text": [
      "23 4.5 False josh\n"
     ]
    }
   ],
   "source": [
    "bool = False\n",
    "print(23, 4.5, bool, \"josh\")"
   ]
  },
  {
   "cell_type": "code",
   "execution_count": 45,
   "id": "9a9f39d8-3608-4238-a860-4f6fdbdbb647",
   "metadata": {},
   "outputs": [
    {
     "name": "stdout",
     "output_type": "stream",
     "text": [
      "3354.0764\n"
     ]
    }
   ],
   "source": [
    "#tuesday Q2\n",
    "\n",
    "x = 245.54 \n",
    "y = 13.66\n",
    "area = x*y\n",
    "print(area)\n"
   ]
  },
  {
   "cell_type": "code",
   "execution_count": 50,
   "id": "f43e2067-f147-4fc7-815d-35867e6617d4",
   "metadata": {},
   "outputs": [
    {
     "name": "stdout",
     "output_type": "stream",
     "text": [
      "Josh's favourite sport is tennis\n"
     ]
    }
   ],
   "source": [
    "#wed Q2\n",
    "\n",
    "name = 'Josh'\n",
    "sport = 'tennis'\n",
    "print(f\"%s's favourite sport is %s\" %(name,sport))"
   ]
  },
  {
   "cell_type": "code",
   "execution_count": 57,
   "id": "2d7e83cc-baaa-41fe-8ccd-2a1ee76f3ecd",
   "metadata": {},
   "outputs": [
    {
     "name": "stdout",
     "output_type": "stream",
     "text": [
      "where is the mistake?\n"
     ]
    }
   ],
   "source": [
    "# replacing an exclamation point with a period\n",
    "data = \"where os the mistake?\"\n",
    "print( data.replace( \"o\", \"i\" ) )"
   ]
  },
  {
   "cell_type": "code",
   "execution_count": 52,
   "id": "8ae2a734-97c9-4e60-b86f-7139a13b6a05",
   "metadata": {},
   "outputs": [
    {
     "name": "stdout",
     "output_type": "stream",
     "text": [
      "John Smith\n"
     ]
    }
   ],
   "source": [
    "# using the title method to capitalize a string\n",
    "name = \"john smith\"\n",
    "print( name.title( ) )"
   ]
  },
  {
   "cell_type": "code",
   "execution_count": 60,
   "id": "460f30cc-b00d-4bc5-92e5-8c5c11a9430d",
   "metadata": {},
   "outputs": [
    {
     "name": "stdout",
     "output_type": "stream",
     "text": [
      "5\n"
     ]
    }
   ],
   "source": [
    "#find something within a text or dataset\n",
    "animals = \"cow, dog, sheep, fish\"\n",
    "print(animals.find(\"dog\")) #if dog is there it will return the intex number of when that thing starts within the string"
   ]
  },
  {
   "cell_type": "code",
   "execution_count": 67,
   "id": "6ee0bf64-d5d7-413c-9ea5-b5734b2eb386",
   "metadata": {},
   "outputs": [
    {
     "name": "stdout",
     "output_type": "stream",
     "text": [
      "josh\n"
     ]
    }
   ],
   "source": [
    "#.strip()\n",
    "\n",
    "#removes white space in a string of text\n",
    "name = \"    josh    \"\n",
    "print(name.strip())"
   ]
  },
  {
   "cell_type": "code",
   "execution_count": 69,
   "id": "a2167ca0-f66f-4eb9-b224-c82f82499166",
   "metadata": {},
   "outputs": [
    {
     "name": "stdout",
     "output_type": "stream",
     "text": [
      "['These', 'words', 'areseparated', 'by', 'spaces']\n"
     ]
    }
   ],
   "source": [
    "#.split()\n",
    "# converting a string into a list of words\n",
    "s = \"These words areseparated by spaces\"\n",
    "print( s.split(\" \") )"
   ]
  },
  {
   "cell_type": "code",
   "execution_count": 81,
   "id": "986556e5-7919-4f34-a637-e861740fbbe1",
   "metadata": {},
   "outputs": [
    {
     "name": "stdout",
     "output_type": "stream",
     "text": [
      "HELL\n"
     ]
    }
   ],
   "source": [
    "#thurs Q1\n",
    "word = 'hell'\n",
    "print(word.upper())"
   ]
  },
  {
   "cell_type": "code",
   "execution_count": 89,
   "id": "e218dc55-802b-47f5-a99c-a7b68306c189",
   "metadata": {},
   "outputs": [
    {
     "name": "stdout",
     "output_type": "stream",
     "text": [
      " Josh \n",
      " Josh $$\n"
     ]
    }
   ],
   "source": [
    "#thurs Q2\n",
    "word = \"$$ Josh $$\"\n",
    "print(word.strip(\"$\"))\n",
    "print(word.lstrip('$')) #.lstrip only removes from the beginning of the string"
   ]
  },
  {
   "cell_type": "code",
   "execution_count": 11,
   "id": "ef42cef3-18fb-41f4-98f4-134232629ced",
   "metadata": {},
   "outputs": [],
   "source": [
    "###creating a reciept printer\n",
    "\n",
    "#build items\n",
    "p1_name, p1_price = \"books\", 49.95\n",
    "p2_name, p2_price = \"computer\", 490.95\n",
    "p3_name, p3_price = \"monitor\", 29.95\n",
    "\n",
    " # create a company name and information\n",
    "company_name = \"computer nerds corp.\"\n",
    "company_address = \"Brains St.\"\n",
    "company_city = \"Melbourne, VIC\"\n",
    "\n",
    "#end message\n",
    "message = \"thanks for visiting the IT crowd today!\""
   ]
  },
  {
   "cell_type": "code",
   "execution_count": 25,
   "id": "3f674860-4987-4bb7-8915-e4e51b2c34fd",
   "metadata": {},
   "outputs": [
    {
     "name": "stdout",
     "output_type": "stream",
     "text": [
      "**************************************************\n",
      "\t\tComputer Nerds Corp.\n",
      "\t\tBrains St.\n",
      "\t\tMelbourne, VIC\n",
      "--------------------------------------------------\n",
      "\tProduct Name\tProduct Price\n",
      "\tbooks\t\t$49.95\n",
      "\tcomputer\t\t$490.95\n",
      "\tmonitor\t\t$29.95\n",
      "--------------------------------------------------\n",
      "\t\t\tTotal\n",
      "\t\t\t\t$570.85\n",
      "==================================================\n",
      "\n",
      "\tthanks for visiting the IT crowd today!\n",
      "\n",
      "**************************************************\n"
     ]
    }
   ],
   "source": [
    "#create boarder of reciept\n",
    "print(\"*\" * 50)\n",
    "\n",
    "#print company info\n",
    "print(\"\\t\\t{}\".format(company_name.title())) # “\\t” is essentially tab indentation, and two of them means in centre. alt “\\n” which means newline\n",
    "print(\"\\t\\t{}\".format(company_address))\n",
    "print(\"\\t\\t{}\".format(company_city))\n",
    "print(\"-\" * 50)\n",
    "\n",
    "#print headers for items\n",
    "print(\"\\tProduct Name\\tProduct Price\")\n",
    "#then print items and prices under headers\n",
    "print(\"\\t{}\\t\\t${}\".format(p1_name, p1_price))\n",
    "print(\"\\t{}\\t\\t${}\".format(p2_name, p2_price))\n",
    "print(\"\\t{}\\t\\t${}\".format(p3_name, p3_price))\n",
    "print(\"-\" * 50)\n",
    "\n",
    "#print total section\n",
    "print(\"\\t\\t\\tTotal\") #just the header\n",
    "total = p1_price + p2_price+ p3_price\n",
    "print(\"\\t\\t\\t\\t${}\".format(total))\n",
    "print(\"=\"*50)\n",
    "\n",
    "#print message end section\n",
    "print(\"\\n\\t{}\\n\".format(message))\n",
    "print(\"*\"*50)\n",
    "\n",
    "#could try adding in QTY (more tabs) OR try using the new python 2 method of print(f\"Hello {name}\")"
   ]
  },
  {
   "cell_type": "code",
   "execution_count": 46,
   "id": "300846b6-8113-4e93-850a-56465d1c2116",
   "metadata": {},
   "outputs": [
    {
     "name": "stdout",
     "output_type": "stream",
     "text": [
      "auhsoj\n"
     ]
    }
   ],
   "source": [
    "#friday Q2\n",
    "'''\n",
    "STRING MANIPULATION METHODS\n",
    "Method\tDescription\n",
    "capitalize()\tConverts the first character to upper case\n",
    "casefold()\tConverts string into lower case\n",
    "center()\tReturns a centered string\n",
    "count()\tReturns the number of times a specified value occurs in a string\n",
    "encode()\tReturns an encoded version of the string\n",
    "endswith()\tReturns true if the string ends with the specified value\n",
    "expandtabs()\tSets the tab size of the string\n",
    "find()\tSearches the string for a specified value and returns the position of where it was found\n",
    "format()\tFormats specified values in a string\n",
    "format_map()\tFormats specified values in a string\n",
    "index()\tSearches the string for a specified value and returns the position of where it was found\n",
    "isalnum()\tReturns True if all characters in the string are alphanumeric\n",
    "isalpha()\tReturns True if all characters in the string are in the alphabet\n",
    "isascii()\tReturns True if all characters in the string are ascii characters\n",
    "isdecimal()\tReturns True if all characters in the string are decimals\n",
    "isdigit()\tReturns True if all characters in the string are digits\n",
    "isidentifier()\tReturns True if the string is an identifier\n",
    "islower()\tReturns True if all characters in the string are lower case\n",
    "isnumeric()\tReturns True if all characters in the string are numeric\n",
    "isprintable()\tReturns True if all characters in the string are printable\n",
    "isspace()\tReturns True if all characters in the string are whitespaces\n",
    "istitle()\tReturns True if the string follows the rules of a title\n",
    "isupper()\tReturns True if all characters in the string are upper case\n",
    "join()\tConverts the elements of an iterable into a string\n",
    "ljust()\tReturns a left justified version of the string\n",
    "lower()\tConverts a string into lower case\n",
    "lstrip()\tReturns a left trim version of the string\n",
    "maketrans()\tReturns a translation table to be used in translations\n",
    "partition()\tReturns a tuple where the string is parted into three parts\n",
    "replace()\tReturns a string where a specified value is replaced with a specified value\n",
    "rfind()\tSearches the string for a specified value and returns the last position of where it was found\n",
    "rindex()\tSearches the string for a specified value and returns the last position of where it was found\n",
    "rjust()\tReturns a right justified version of the string\n",
    "rpartition()\tReturns a tuple where the string is parted into three parts\n",
    "rsplit()\tSplits the string at the specified separator, and returns a list\n",
    "rstrip()\tReturns a right trim version of the string\n",
    "split()\tSplits the string at the specified separator, and returns a list\n",
    "splitlines()\tSplits the string at line breaks and returns a list\n",
    "startswith()\tReturns true if the string starts with the specified value\n",
    "strip()\tReturns a trimmed version of the string\n",
    "swapcase()\tSwaps cases, lower case becomes upper case and vice versa\n",
    "title()\tConverts the first character of each word to upper case\n",
    "translate()\tReturns a translated string\n",
    "upper()\tConverts a string into upper case\n",
    "zfill()\tFills the string with a specified number of 0 values at the beginning\n",
    "'''\n",
    "#friday Q2\n",
    "text = \"joshua\"\n",
    "reversed = text[::-1]\n",
    "print(reversed)\n"
   ]
  },
  {
   "cell_type": "code",
   "execution_count": null,
   "id": "73125ef1-6302-4b69-8f4e-48502081837f",
   "metadata": {},
   "outputs": [],
   "source": []
  }
 ],
 "metadata": {
  "kernelspec": {
   "display_name": "Python 3 (ipykernel)",
   "language": "python",
   "name": "python3"
  },
  "language_info": {
   "codemirror_mode": {
    "name": "ipython",
    "version": 3
   },
   "file_extension": ".py",
   "mimetype": "text/x-python",
   "name": "python",
   "nbconvert_exporter": "python",
   "pygments_lexer": "ipython3",
   "version": "3.12.7"
  }
 },
 "nbformat": 4,
 "nbformat_minor": 5
}
