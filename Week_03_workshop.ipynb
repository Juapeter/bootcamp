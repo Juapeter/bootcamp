{
 "cells": [
  {
   "cell_type": "markdown",
   "id": "2f32433c",
   "metadata": {},
   "source": [
    "## week 3 workshop"
   ]
  },
  {
   "cell_type": "code",
   "execution_count": null,
   "id": "2d99afb1",
   "metadata": {},
   "outputs": [
    {
     "name": "stdout",
     "output_type": "stream",
     "text": [
      "FAIL\n"
     ]
    }
   ],
   "source": [
    "try:\n",
    "\n",
    "grade = int(input(\"what was your grade?\"))\n",
    "\n",
    "if grade >= 90 and grade <=100:\n",
    "    print(\"good job!, you got an A\")\n",
    "elif grade >= 80 and grade <= 89:\n",
    "    print(\"you got a B\")\n",
    "elif grade >= 70 and grade <= 79:\n",
    "    print(\"you got a C\")\n",
    "elif grade >= 60 and grade <= 69:\n",
    "    print(\"you got a D\")\n",
    "elif grade < 60 and grade >=0:\n",
    "    print(\"FAIL\")\n",
    "else:\n",
    "    print(\"not a valid number\")"
   ]
  },
  {
   "cell_type": "code",
   "execution_count": null,
   "id": "d3878293",
   "metadata": {},
   "outputs": [
    {
     "ename": "SyntaxError",
     "evalue": "incomplete input (3409839062.py, line 4)",
     "output_type": "error",
     "traceback": [
      "\u001b[1;36m  Cell \u001b[1;32mIn[3], line 4\u001b[1;36m\u001b[0m\n\u001b[1;33m    print(age)\u001b[0m\n\u001b[1;37m              ^\u001b[0m\n\u001b[1;31mSyntaxError\u001b[0m\u001b[1;31m:\u001b[0m incomplete input\n"
     ]
    }
   ],
   "source": [
    "try:\n",
    "    age = input(int(\"\"))\n",
    "    print\n",
    "\n",
    "except:\n",
    "    print(not valid)\n",
    "\n",
    "\n"
   ]
  },
  {
   "cell_type": "code",
   "execution_count": null,
   "id": "41c33cb5",
   "metadata": {},
   "outputs": [],
   "source": []
  }
 ],
 "metadata": {
  "kernelspec": {
   "display_name": "base",
   "language": "python",
   "name": "python3"
  },
  "language_info": {
   "codemirror_mode": {
    "name": "ipython",
    "version": 3
   },
   "file_extension": ".py",
   "mimetype": "text/x-python",
   "name": "python",
   "nbconvert_exporter": "python",
   "pygments_lexer": "ipython3",
   "version": "3.12.7"
  }
 },
 "nbformat": 4,
 "nbformat_minor": 5
}
