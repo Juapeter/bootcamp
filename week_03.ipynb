{
 "cells": [
  {
   "cell_type": "code",
   "execution_count": null,
   "id": "26656ca6",
   "metadata": {},
   "outputs": [],
   "source": []
  },
  {
   "cell_type": "markdown",
   "id": "60631bce",
   "metadata": {},
   "source": [
    "# User input and type converting\n",
    "remember to check type with type()\n",
    "\n"
   ]
  },
  {
   "cell_type": "code",
   "execution_count": null,
   "id": "e8955973",
   "metadata": {},
   "outputs": [
    {
     "name": "stdout",
     "output_type": "stream",
     "text": [
      "Hello, Josh\n"
     ]
    }
   ],
   "source": [
    "ans = input(\"whats your name?\")\n",
    "print(f\"Hello, {ans}\") #alternatively... print(\"hello, {}\".format(ans))"
   ]
  },
  {
   "cell_type": "code",
   "execution_count": 4,
   "id": "9dcb52e5",
   "metadata": {},
   "outputs": [
    {
     "name": "stdout",
     "output_type": "stream",
     "text": [
      "<class 'int'>\n"
     ]
    }
   ],
   "source": [
    "#convert one data type to another\n",
    "num = \"9\"\n",
    "num = int(num)\n",
    "print(type(num))"
   ]
  },
  {
   "cell_type": "code",
   "execution_count": null,
   "id": "370ad75f",
   "metadata": {},
   "outputs": [
    {
     "name": "stdout",
     "output_type": "stream",
     "text": [
      "<class 'str'>\n",
      "100 + 5 = 105\n"
     ]
    }
   ],
   "source": [
    "#change string to integer \n",
    "ans = input(\"type a number to add:\")\n",
    "print(type(ans)) #this is a print statement telling you what the input data type was - string which wont make sense for the calculation so...int(ans) makes 'ans' into an integer\n",
    "result = 100 + int(ans) #this is how you convert the user string input into integer\n",
    "print(\"100 + {} = {}\".format(ans, result))"
   ]
  },
  {
   "cell_type": "markdown",
   "id": "f06d437b",
   "metadata": {},
   "source": [
    "\n",
    "Boolean True Integer int(True) 1\n",
    "\n",
    "Integer 5 Float float(5) 5.0\n",
    "etc...\n"
   ]
  },
  {
   "cell_type": "markdown",
   "id": "51a2e310",
   "metadata": {},
   "source": [
    "# Errors and try/except blocks\n",
    "\n",
    "Try and except are used to catch\n",
    "errors. It works by trying to run what is inside the try block; if it doesn’t produce an error,\n",
    "then it continues without hitting the except block; however, if an error occurs, then the\n",
    "code in the except block runs."
   ]
  },
  {
   "cell_type": "code",
   "execution_count": 7,
   "id": "6a0930eb",
   "metadata": {},
   "outputs": [
    {
     "name": "stdout",
     "output_type": "stream",
     "text": [
      "100 + 9.0 = 109.0\n"
     ]
    }
   ],
   "source": [
    "try:\n",
    "    ans = float(input(\"enter a number to add:\"))\n",
    "    print(\"100 + {} = {}\".format(ans, 100+ans))\n",
    "except:\n",
    "    print(\"you did not entera valid number\")"
   ]
  },
  {
   "cell_type": "code",
   "execution_count": 15,
   "id": "d984c8d1",
   "metadata": {},
   "outputs": [
    {
     "name": "stdout",
     "output_type": "stream",
     "text": [
      "<class 'str'>\n"
     ]
    }
   ],
   "source": [
    "#monday exercises\n",
    "ans = input(\"type in boolean:\")\n",
    "bool('True')\n",
    "print(type(ans))"
   ]
  },
  {
   "cell_type": "code",
   "execution_count": 19,
   "id": "d980d905",
   "metadata": {},
   "outputs": [
    {
     "name": "stdout",
     "output_type": "stream",
     "text": [
      "number1 + number2 = 10\n"
     ]
    }
   ],
   "source": [
    "number1 = input(\"first number\")\n",
    "number2 = input(\"second number to add:\")\n",
    "result = int(number1) + int(number2)\n",
    "print(f\"number1 + number2 = {result}\")"
   ]
  },
  {
   "cell_type": "code",
   "execution_count": 20,
   "id": "3597f589",
   "metadata": {},
   "outputs": [
    {
     "name": "stdout",
     "output_type": "stream",
     "text": [
      "I recently bought a 2025 mini cooper countryman in the color race car green! YAY\n"
     ]
    }
   ],
   "source": [
    "old = input(\"what year was you car made\")\n",
    "make = input(\"what brand is your car?\")\n",
    "model = input(\"what model is your car\")\n",
    "color = input(\"what is the color of your car?\")\n",
    "print(f\"I recently bought a {str(old)} {make} {model} in the color {color}! YAY\")"
   ]
  },
  {
   "cell_type": "markdown",
   "id": "5d9ec132",
   "metadata": {},
   "source": [
    "## If statements\n",
    "\n",
    "“Am I hungry?”\n",
    "“Yes, so I should make some food.”\n",
    "***proceeds to cook food***\n",
    "\n",
    "OR \"no, im too full\"\n",
    "***proceeds to chill on the couch***\n",
    "\n",
    "operators\n",
    "\n",
    "==,!=,>,<,>=,<="
   ]
  },
  {
   "cell_type": "code",
   "execution_count": 26,
   "id": "eb75e7c2",
   "metadata": {},
   "outputs": [
    {
     "name": "stdout",
     "output_type": "stream",
     "text": [
      "x is less than y\n"
     ]
    }
   ],
   "source": [
    "x,y = 5,10\n",
    "if x<y:\n",
    "    print(\"x is less than y\")\n"
   ]
  },
  {
   "cell_type": "code",
   "execution_count": 30,
   "id": "9989b891",
   "metadata": {},
   "outputs": [
    {
     "name": "stdout",
     "output_type": "stream",
     "text": [
      "boooooooo!\n"
     ]
    }
   ],
   "source": [
    "ans = int(input(\"what is 5 +5?\"))\n",
    "if ans == 10:\n",
    "    print(\"well done\")\n",
    "if ans != 10:\n",
    "    print(\"boooooooo!\")\n"
   ]
  },
  {
   "cell_type": "markdown",
   "id": "4a6824de",
   "metadata": {},
   "source": [
    "can use 'and'/'or' and 'not' in if statements"
   ]
  },
  {
   "cell_type": "markdown",
   "id": "63a67896",
   "metadata": {},
   "source": [
    "## TuesQs"
   ]
  },
  {
   "cell_type": "code",
   "execution_count": 36,
   "id": "e0bb04fa",
   "metadata": {},
   "outputs": [
    {
     "name": "stdout",
     "output_type": "stream",
     "text": [
      "broken containes the charachters 'en'\n"
     ]
    }
   ],
   "source": [
    "word = \"broken\"\n",
    "if \"en\" in word:\n",
    "    print(f\"{word} containes the charachters 'en'\")"
   ]
  },
  {
   "cell_type": "code",
   "execution_count": 38,
   "id": "8f45fd47",
   "metadata": {},
   "outputs": [
    {
     "name": "stdout",
     "output_type": "stream",
     "text": [
      "your word 'vibe' contains 'ib'\n"
     ]
    }
   ],
   "source": [
    "word = input(\"what word do you wish to analyze\")\n",
    "contents = input(\"what letters do you want to check the word contains\")\n",
    "if contents in word:\n",
    "    print(f\"your word '{word}' contains '{contents}'\")"
   ]
  },
  {
   "cell_type": "code",
   "execution_count": 13,
   "id": "f379503f",
   "metadata": {},
   "outputs": [
    {
     "name": "stdout",
     "output_type": "stream",
     "text": [
      "your words match!\n"
     ]
    }
   ],
   "source": [
    "#3 - cant get case sensitive\n",
    "word1 = input(\"check word 1\").lower()\n",
    "\n",
    "word2 = input(\"check word 2\").lower()\n",
    "\n",
    "if word1 == word2:\n",
    "    print(\"your words match!\")"
   ]
  },
  {
   "cell_type": "code",
   "execution_count": 15,
   "id": "0aa6bc11",
   "metadata": {},
   "outputs": [
    {
     "name": "stdout",
     "output_type": "stream",
     "text": [
      "no match\n"
     ]
    }
   ],
   "source": [
    "#this needs cases\n",
    "word1 = input(\"check word 1\").casefold()\n",
    "word2 = input(\"check word 2\").casefold()\n",
    "if word1 == word2: \n",
    "    print(\"words match\")\n",
    "else:\n",
    "    print(\"no match\")"
   ]
  },
  {
   "cell_type": "code",
   "execution_count": 71,
   "id": "0a6fb8a9",
   "metadata": {},
   "outputs": [
    {
     "name": "stdout",
     "output_type": "stream",
     "text": [
      "25\n"
     ]
    }
   ],
   "source": [
    "number = int(input(\"what is your number\"))\n",
    "if number <= 10:\n",
    "    print(number ** 2)"
   ]
  },
  {
   "cell_type": "markdown",
   "id": "8f6add47",
   "metadata": {},
   "source": [
    "## Elif statements\n",
    "\n",
    "must have an 'if' statement to start it and then will run blocks of code dependsing on what gets rejected\n",
    "\n",
    "if the 'if' statement is false then it will go to the first 'elif' and if that is also false it will go to the second 'elif'\n",
    "\n",
    "once an 'elif' returns true then it will skip the rest of the 'elif' code checks and just execute that one block"
   ]
  },
  {
   "cell_type": "code",
   "execution_count": null,
   "id": "987b3f4d",
   "metadata": {},
   "outputs": [
    {
     "name": "stdout",
     "output_type": "stream",
     "text": [
      "x is euqal to y\n"
     ]
    }
   ],
   "source": [
    "x = input(\"number 1\")\n",
    "y = input(\"number 2\")\n",
    "\n",
    "if x>y:\n",
    "    print(\"x is greater htan y\")\n",
    "elif x == y:\n",
    "    print(\"x is euqal to y\")\n",
    "elif x<y:\n",
    "    print(\"x is lesser than y\")\n",
    "    #we saw this elif statements in the number guessing game"
   ]
  },
  {
   "cell_type": "code",
   "execution_count": 5,
   "id": "ce013584",
   "metadata": {},
   "outputs": [
    {
     "name": "stdout",
     "output_type": "stream",
     "text": [
      "685473541532.0 number is greater than 100\n"
     ]
    }
   ],
   "source": [
    "#wednesday\n",
    "number = input(\"name number 0-100\")\n",
    "result = float(number)\n",
    "if result > 100:\n",
    "    print(f\"{result} number is greater than 100\")\n",
    "elif result < 100:\n",
    "    print(f\" {result} is lower than 100\")\n"
   ]
  },
  {
   "cell_type": "code",
   "execution_count": 9,
   "id": "aebddb32",
   "metadata": {},
   "outputs": [
    {
     "name": "stdout",
     "output_type": "stream",
     "text": [
      "lower\n"
     ]
    }
   ],
   "source": [
    "x, y = 5, 10\n",
    "if x > y:\n",
    "    print(\"greater\")\n",
    "elif x < y:\n",
    "    print(\"lower\")"
   ]
  },
  {
   "cell_type": "markdown",
   "id": "10424631",
   "metadata": {},
   "source": [
    "## Else statements\n",
    "\n",
    "if all the 'if and 'elif' statements return false then the else statement will run\n",
    "\n",
    "else statements only run if all fails"
   ]
  },
  {
   "cell_type": "code",
   "execution_count": null,
   "id": "3da5b490",
   "metadata": {},
   "outputs": [
    {
     "name": "stdout",
     "output_type": "stream",
     "text": [
      "name starts with a j\n"
     ]
    }
   ],
   "source": [
    "name = input(\"whats your name\")\n",
    "if name[0] == \"A\": #name[0] means - the first position [0] of the word name - name[0]\n",
    "    print(\"name starts with 'A'\")\n",
    "elif name[0]==\"B\":\n",
    "    print(\"name starts with 'B'\")\n",
    "else:\n",
    "    print(\"name starts with a {}\".format(name[0]))"
   ]
  },
  {
   "cell_type": "code",
   "execution_count": 16,
   "id": "38e1bd74",
   "metadata": {},
   "outputs": [
    {
     "name": "stdout",
     "output_type": "stream",
     "text": [
      "Hello John\n"
     ]
    }
   ],
   "source": [
    "name = \"John\"\n",
    "if name == \"Jack\":\n",
    "    print(\"Hello Jack\")\n",
    "elif name == \"John\":\n",
    "    print(\"Hello John\")"
   ]
  },
  {
   "cell_type": "code",
   "execution_count": 6,
   "id": "61e11f05",
   "metadata": {},
   "outputs": [
    {
     "name": "stdout",
     "output_type": "stream",
     "text": [
      "good morning\n"
     ]
    }
   ],
   "source": [
    "try:\n",
    "    time = int(input(\"what is the time?\")) ##what is my idea here for the try and ask??\n",
    "except:\n",
    "    print(\"invalid number\")\n",
    "if time < 1200:\n",
    "    print(\"good morning\")\n",
    "elif time < 1700 and time > 1200:\n",
    "    print(\"good afternoon\")\n",
    "elif time > 1700 and time<2400:\n",
    "    print(\"good night\")\n",
    "else:\n",
    "    print(\"good day!\")"
   ]
  },
  {
   "cell_type": "code",
   "execution_count": null,
   "id": "518693a0",
   "metadata": {},
   "outputs": [],
   "source": []
  },
  {
   "cell_type": "markdown",
   "id": "363b0e68",
   "metadata": {},
   "source": [
    "## making a calculator"
   ]
  },
  {
   "cell_type": "code",
   "execution_count": null,
   "id": "6ab50022",
   "metadata": {},
   "outputs": [
    {
     "name": "stdout",
     "output_type": "stream",
     "text": [
      "sorry 'oops' is not an option\n"
     ]
    }
   ],
   "source": [
    "operation = input(\"would you like to add, subtract, multiply or divide?\").lower()\n",
    "\n",
    "if operation == \"subtract\":\n",
    "    print(\"you choose {}\".format(operation))\n",
    "    print(\"order matters with calulcation\")\n",
    "num1=input(\"first number?\")\n",
    "num2=input(\"second number?\")\n",
    "\n",
    "num1, num2 = float(num1), float(num2)\n",
    "if operation == \"add\":\n",
    "    result = num1+num2\n",
    "    print(f\"{num1}+{num2}={result}\")\n",
    "elif operation == \"subtract\":\n",
    "    result = num1-num2\n",
    "    print(f\"{num1}-{num2}={result}\")\n",
    "elif operation == \"multiply\":\n",
    "    result = num1 * num2\n",
    "    print(f\"{num1} x {num2} = {result}\")\n",
    "elif operation == \"divide\":\n",
    "    result = num1 / num2\n",
    "    print(f\"{num1} / {num2} = {result}\")\n",
    "else:\n",
    "    print(\"sorry '{}' is not an option\".format(operation))"
   ]
  },
  {
   "cell_type": "markdown",
   "id": "dd7aaa60",
   "metadata": {},
   "source": [
    "# challenge questions"
   ]
  },
  {
   "cell_type": "code",
   "execution_count": null,
   "id": "97812bb6",
   "metadata": {},
   "outputs": [
    {
     "name": "stdout",
     "output_type": "stream",
     "text": [
      "95.0 x 56.0 = 5320.0\n"
     ]
    }
   ],
   "source": [
    "#make order of calulcation an option for calculator\n",
    "\n",
    "num1=input(\"first number?\")\n",
    "num2=input(\"second number?\")\n",
    "num1, num2 = float(num1), float(num2)\n",
    "\n",
    "operation = input(\"would you like to add, subtract, multiply or divide?\").lower()\n",
    "\n",
    "if operation == \"add\":\n",
    "    result = num1+num2\n",
    "    print(f\"{num1}+{num2}={result}\")\n",
    "elif operation == \"subtract\":\n",
    "    order = input(f\"would you like the following '{num1}' - '{num2}' ?\").casefold()\n",
    "    if order == \"yes\":\n",
    "        result = num1-num2\n",
    "        print(f\"{num1}-{num2}={result}\")\n",
    "    elif order == \"no\":\n",
    "        result = num2 - num1\n",
    "        print(f\"{num2} - {num1} = {result}\")\n",
    "elif operation == \"multiply\":\n",
    "    order = input(f\"would you like the following '{num1}' x '{num2}' ?\").casefold()\n",
    "    if order == \"yes\":\n",
    "        result = num1 * num2\n",
    "        print(f\"{num1} x {num2}={result}\")\n",
    "    elif order == \"no\":\n",
    "        result = num2 * num1\n",
    "        print(f\"{num2} x {num1} = {result}\")\n",
    "elif operation == \"divide\":\n",
    "    order = input(f\"would you like the following '{num1}' / '{num2}' ?\").casefold()\n",
    "    if order == \"yes\":\n",
    "        result = num1/num2\n",
    "        print(f\"{num1} / {num2}={result}\")\n",
    "    elif order == \"no\":\n",
    "        result = num2 / num1\n",
    "        print(f\"{num2} / {num1} = {result}\")\n",
    "else:\n",
    "    print(\"sorry '{}' is not an option\".format(operation))"
   ]
  },
  {
   "cell_type": "code",
   "execution_count": null,
   "id": "c4bb229e",
   "metadata": {},
   "outputs": [
    {
     "name": "stdout",
     "output_type": "stream",
     "text": [
      "you sank down the rabbit hole and landed in quicksand, soz\n",
      "good choice, the log touches the floor of the quicksand and was a stable platform to get you out\n",
      "interesting choice\n"
     ]
    }
   ],
   "source": [
    "# make a choose your adventure!\n",
    "\n",
    "shoes = input(\"welcome to alice in wonderlands rabbit hole, please decide, will you keep your shoes on?\").casefold()\n",
    "help = input(\"you see a rope haning from a tree and a log, both within reach, which do you go for?\").casefold()\n",
    "destination = input(\"you see in the distance a run-down palace and a castle under seige, which will you persue?\")\n",
    "\n",
    "if shoes == \"yes\":\n",
    "    print(\"you sank down the rabbit hole and landed in quicksand, soz\")\n",
    "    if help == \"rope\":\n",
    "        print(\"unlucky! the rope was a snake and you actually got bit, poisoned, then you drown in the quicksand - yikes!\")\n",
    "    elif help == \"log\":\n",
    "        print(\"good choice, the log touches the floor of the quicksand and was a stable platform to get you out\")\n",
    "        if destination == \"castle\":\n",
    "            print(\"interesting choice\")\n",
    "        elif destination == \"palace\":\n",
    "            print(\"lol why?\")\n",
    "    else:\n",
    "        print(\"sorry that anser is not an option\")\n",
    "elif shoes == \"no\":\n",
    "    print(\"that was lucky, you landed in quick sand but quickly undo your shoes and step out of the sand\")\n",
    "    if destination == \"castle\":\n",
    "        print(f\"{destination} - interesting choice\")\n",
    "    elif destination == \"palace\":\n",
    "        print(f\" {destination} - lol why?\")\n",
    "else:\n",
    "    print(\"not an option\")\n"
   ]
  },
  {
   "cell_type": "code",
   "execution_count": null,
   "id": "d6659351",
   "metadata": {},
   "outputs": [],
   "source": []
  },
  {
   "cell_type": "markdown",
   "id": "f56300f6",
   "metadata": {},
   "source": [
    "## week 3 workshop"
   ]
  },
  {
   "cell_type": "code",
   "execution_count": 6,
   "id": "7342fc88",
   "metadata": {},
   "outputs": [
    {
     "name": "stdout",
     "output_type": "stream",
     "text": [
      "original values are x = 10 and y = 20\n",
      "new variables are x = 20, and y = 10\n"
     ]
    }
   ],
   "source": [
    "#challenge 5\n",
    "x,y = 10,20\n",
    "swap = input(f\"currently x is {x} and y is {y}, do you wish to swap variables?\").casefold()\n",
    "print(f\"original values are x = {x} and y = {y}\")\n",
    "if swap == 'yes':\n",
    "    x,y = y,x\n",
    "    print(f\"new variables are x = {x}, and y = {y}\")\n",
    "elif swap == 'no':\n",
    "    print(f\"variables remain as x = {x}, y = {y}\")\n",
    "\n",
    "\n",
    "    "
   ]
  },
  {
   "cell_type": "code",
   "execution_count": 19,
   "id": "c2a6e9ea",
   "metadata": {},
   "outputs": [
    {
     "name": "stdout",
     "output_type": "stream",
     "text": [
      "original variables (60, 20)\n",
      "swapped variables (20, 60)\n"
     ]
    }
   ],
   "source": [
    "x,y = 60,20\n",
    "print(f\"original variables {x,y}\")\n",
    "x = x + y \n",
    "y = x - y\n",
    "x = x - y # ^^^makes the calulus happen so that if you change the numbers of x and y it will still work\n",
    "print(f\"swapped variables {x,y}\")"
   ]
  },
  {
   "cell_type": "code",
   "execution_count": 14,
   "id": "46b829ec",
   "metadata": {},
   "outputs": [
    {
     "name": "stdout",
     "output_type": "stream",
     "text": [
      "5\n",
      "10\n"
     ]
    }
   ],
   "source": [
    "# challenge 4\n",
    "current_age = int(input(\"what is your age\"))\n",
    "\n",
    "print(current_age)\n",
    "new_age = current_age + 5\n",
    "print(new_age)"
   ]
  },
  {
   "cell_type": "code",
   "execution_count": null,
   "id": "657cee3d",
   "metadata": {},
   "outputs": [],
   "source": []
  },
  {
   "cell_type": "markdown",
   "id": "e487d5e0",
   "metadata": {},
   "source": [
    "## week 3 workshop"
   ]
  },
  {
   "cell_type": "code",
   "execution_count": 16,
   "id": "d2cbcc3f",
   "metadata": {},
   "outputs": [
    {
     "name": "stdout",
     "output_type": "stream",
     "text": [
      "not a valid number\n"
     ]
    }
   ],
   "source": [
    "grade = int(input(\"what was your grade?\"))\n",
    "if grade >= 90 and grade <=100:\n",
    "    print(\"good job!, you got an A\")\n",
    "elif grade >= 80 and grade <= 89:\n",
    "    print(\"you got a B\")\n",
    "elif grade >= 70 and grade <= 79:\n",
    "    print(\"you got a C\")\n",
    "elif grade >= 60 and grade <= 69:\n",
    "    print(\"you got a D\")\n",
    "elif grade < 60 and grade >=0:\n",
    "    print(\"FAIL\")\n",
    "else:\n",
    "    print(\"not a valid number\")"
   ]
  },
  {
   "cell_type": "code",
   "execution_count": null,
   "id": "072bb9f0",
   "metadata": {},
   "outputs": [
    {
     "ename": "SyntaxError",
     "evalue": "incomplete input (2494306541.py, line 4)",
     "output_type": "error",
     "traceback": [
      "\u001b[1;36m  Cell \u001b[1;32mIn[21], line 4\u001b[1;36m\u001b[0m\n\u001b[1;33m    print(age)\u001b[0m\n\u001b[1;37m              ^\u001b[0m\n\u001b[1;31mSyntaxError\u001b[0m\u001b[1;31m:\u001b[0m incomplete input\n"
     ]
    }
   ],
   "source": [
    "age = int input(\"what is your age?\")\n",
    "try:\n",
    "    age == int\n",
    "    print(age)\n"
   ]
  },
  {
   "cell_type": "code",
   "execution_count": null,
   "id": "237e5d64",
   "metadata": {},
   "outputs": [],
   "source": []
  }
 ],
 "metadata": {
  "kernelspec": {
   "display_name": "base",
   "language": "python",
   "name": "python3"
  },
  "language_info": {
   "codemirror_mode": {
    "name": "ipython",
    "version": 3
   },
   "file_extension": ".py",
   "mimetype": "text/x-python",
   "name": "python",
   "nbconvert_exporter": "python",
   "pygments_lexer": "ipython3",
   "version": "3.12.7"
  }
 },
 "nbformat": 4,
 "nbformat_minor": 5
}
