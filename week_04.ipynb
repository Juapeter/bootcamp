{
 "cells": [
  {
   "cell_type": "markdown",
   "id": "30dbefd8",
   "metadata": {},
   "source": [
    "## Lists\n",
    "\n",
    "lists are defined by having different data types between square brackets [ ].\n",
    "\n"
   ]
  },
  {
   "cell_type": "code",
   "execution_count": 1,
   "id": "8dfe2c84",
   "metadata": {},
   "outputs": [
    {
     "name": "stdout",
     "output_type": "stream",
     "text": [
      "4\n",
      "5.7\n"
     ]
    }
   ],
   "source": [
    "#access elements within a list\n",
    "nums = [1,4,5.7,9]\n",
    "print(nums[1])\n",
    "num = nums[2]\n",
    "print(num)"
   ]
  },
  {
   "cell_type": "code",
   "execution_count": 2,
   "id": "f8a20970",
   "metadata": {},
   "outputs": [
    {
     "name": "stdout",
     "output_type": "stream",
     "text": [
      "[4.6, 'words', True]\n"
     ]
    }
   ],
   "source": [
    "#lists can be mixed data types\n",
    "num = 4.6\n",
    "data = [num, \"words\", True]\n",
    "print(data)"
   ]
  },
  {
   "cell_type": "code",
   "execution_count": 7,
   "id": "574f4894",
   "metadata": {},
   "outputs": [
    {
     "name": "stdout",
     "output_type": "stream",
     "text": [
      "[5, 'book', [43, 'hello'], True]\n",
      "[43, 'hello']\n",
      "43\n",
      "[43, 'hello']\n",
      "[100, 'book', [43, 'hello'], True]\n"
     ]
    }
   ],
   "source": [
    "#lists within lists\n",
    "\n",
    "data = [5, \"book\", [43,\"hello\"], True]\n",
    "print(data)\n",
    "print(data[2])\n",
    "\n",
    "#accessing\n",
    "print(data[2][0])\n",
    "inner_list = data[2]\n",
    "print(inner_list) \n",
    "\n",
    "#can chainge list values\n",
    "data[0] = 100\n",
    "print(data)\n"
   ]
  },
  {
   "cell_type": "code",
   "execution_count": 11,
   "id": "39cb1813",
   "metadata": {},
   "outputs": [
    {
     "name": "stdout",
     "output_type": "stream",
     "text": [
      "a: [5, 10]\t b: [5, 10]\n",
      "location a[0]: 140725160323640\t location b[0]: 140725160323640\n",
      "a: [20, 10]\t b:[20, 10]\n"
     ]
    }
   ],
   "source": [
    "a= [5,10]\n",
    "b=a\n",
    "print(\"a: {}\\t b: {}\".format(a,b))\n",
    "print(\"location a[0]: {}\\t location b[0]: {}\".format( id(a[0]),id(b[0])))\n",
    "a[0] = 20 #redeclaring the value of a[0] also changes b[0]\n",
    "print(\"a: {}\\t b:{}\".format(a,b))\n",
    "\n",
    "      "
   ]
  },
  {
   "cell_type": "markdown",
   "id": "39dc54e8",
   "metadata": {},
   "source": [
    "# how to copy a list "
   ]
  },
  {
   "cell_type": "code",
   "execution_count": 14,
   "id": "eb87201a",
   "metadata": {},
   "outputs": [
    {
     "name": "stdout",
     "output_type": "stream",
     "text": [
      "data: [5, 10, 15, 20]\t data copy ; [50, 10, 15, 20]\n"
     ]
    }
   ],
   "source": [
    "# usu [:] to copy list\n",
    "data = [5,10,15,20]\n",
    "data_copy = data[ : ]\n",
    "data_copy[0] =50\n",
    "print(f\"data: {data}\\t data copy ; {data_copy}\")"
   ]
  },
  {
   "cell_type": "markdown",
   "id": "0b6a1fc5",
   "metadata": {},
   "source": [
    "# challenge q's"
   ]
  },
  {
   "cell_type": "code",
   "execution_count": 17,
   "id": "550c0e7c",
   "metadata": {},
   "outputs": [
    {
     "name": "stdout",
     "output_type": "stream",
     "text": [
      "i like to play swimming\n"
     ]
    }
   ],
   "source": [
    "sports = ['tennis', 'polo', 'golf', 'swimming']\n",
    "print(f\"i like to play {sports[3]}\")"
   ]
  },
  {
   "cell_type": "code",
   "execution_count": 23,
   "id": "c1f95345",
   "metadata": {},
   "outputs": [
    {
     "name": "stdout",
     "output_type": "stream",
     "text": [
      "j a s k\n"
     ]
    }
   ],
   "source": [
    "names = ['john', 'aaron', 'sam', 'kelly']\n",
    "print(names[0][0], names[1][0], names[2][0], names[3][0])"
   ]
  },
  {
   "cell_type": "markdown",
   "id": "7d5bdbec",
   "metadata": {},
   "source": [
    "## For loops\n"
   ]
  },
  {
   "cell_type": "code",
   "execution_count": 1,
   "id": "c4f987b6",
   "metadata": {},
   "outputs": [
    {
     "name": "stdout",
     "output_type": "stream",
     "text": [
      "value: 0\n",
      "value: 1\n",
      "value: 2\n",
      "value: 3\n",
      "value: 4\n"
     ]
    }
   ],
   "source": [
    "for num in range(5):\n",
    "    print(f\"value: {num}\")"
   ]
  },
  {
   "cell_type": "code",
   "execution_count": 2,
   "id": "7f60ab30",
   "metadata": {},
   "outputs": [
    {
     "name": "stdout",
     "output_type": "stream",
     "text": [
      "value : 2\n",
      "value : 4\n",
      "value : 6\n",
      "value : 8\n"
     ]
    }
   ],
   "source": [
    "for num in range(2,10,2):\n",
    "    print(f\"value : {num}\")"
   ]
  },
  {
   "cell_type": "code",
   "execution_count": 4,
   "id": "d8b2633d",
   "metadata": {},
   "outputs": [
    {
     "name": "stdout",
     "output_type": "stream",
     "text": [
      "j\n",
      "o\n",
      "s\n",
      "h\n",
      " \n",
      "m\n",
      "o\n",
      "r\n",
      "r\n",
      "o\n",
      "w\n"
     ]
    }
   ],
   "source": [
    "name = \"josh morrow\"\n",
    "for letter in name:\n",
    "    print(letter)"
   ]
  },
  {
   "cell_type": "code",
   "execution_count": 20,
   "id": "68921d43",
   "metadata": {},
   "outputs": [
    {
     "name": "stdout",
     "output_type": "stream",
     "text": [
      "2\n",
      "3\n"
     ]
    }
   ],
   "source": [
    "# continue statement\n",
    "\n",
    "for num in range(5):\n",
    "    if num <= 1:\n",
    "        continue #continue function makes it skip the next steps if it is triggered and then goes back to the top of the loop without finishing the code under\n",
    "    elif num == 4:\n",
    "        continue\n",
    "    print(num)"
   ]
  },
  {
   "cell_type": "code",
   "execution_count": 18,
   "id": "fede8ab4",
   "metadata": {},
   "outputs": [
    {
     "name": "stdout",
     "output_type": "stream",
     "text": [
      "0\n",
      "1\n",
      "2\n"
     ]
    }
   ],
   "source": [
    "# break statement\n",
    "\n",
    "for num in range(5):\n",
    "    if num == 3:\n",
    "        break\n",
    "    print(num)\n"
   ]
  },
  {
   "cell_type": "code",
   "execution_count": null,
   "id": "e226bb0a",
   "metadata": {},
   "outputs": [],
   "source": [
    "#pass statement - use for when code is in edit/writing stage and you need a placeholder for future code\n",
    "\n",
    "for i in range(5):\n",
    "    # TODO: add code here - \"TO ... DO\"\n",
    "    pass"
   ]
  },
  {
   "cell_type": "code",
   "execution_count": 27,
   "id": "858bc42e",
   "metadata": {},
   "outputs": [
    {
     "name": "stdout",
     "output_type": "stream",
     "text": [
      "3\n",
      "6\n",
      "9\n",
      "12\n",
      "15\n",
      "18\n",
      "21\n",
      "24\n",
      "27\n",
      "30\n",
      "33\n",
      "36\n",
      "39\n",
      "42\n",
      "45\n",
      "48\n",
      "51\n",
      "54\n",
      "57\n",
      "60\n",
      "63\n",
      "66\n",
      "69\n",
      "72\n",
      "75\n",
      "78\n",
      "81\n",
      "84\n",
      "87\n",
      "90\n",
      "93\n",
      "96\n",
      "99\n"
     ]
    }
   ],
   "source": [
    "for num in range(1,100,1):\n",
    "    if num % 3 :\n",
    "        continue\n",
    "    print(num)\n"
   ]
  },
  {
   "cell_type": "code",
   "execution_count": null,
   "id": "9918ce33",
   "metadata": {},
   "outputs": [
    {
     "name": "stdout",
     "output_type": "stream",
     "text": [
      "a\n",
      "a\n",
      "o\n"
     ]
    }
   ],
   "source": [
    "#print vowels\n",
    "# \n",
    "name = input(\"what is your name\")\n",
    "\n",
    "for letter in name:\n",
    "    if letter == 'a':\n",
    "        print(letter)\n",
    "    elif letter == 'e':\n",
    "        print(letter)\n",
    "    elif letter == 'i':\n",
    "        print(letter)\n",
    "    elif letter == 'o':\n",
    "        print(letter)\n",
    "    elif letter == 'u':\n",
    "        print(letter)\n"
   ]
  },
  {
   "cell_type": "markdown",
   "id": "a637ecf9",
   "metadata": {},
   "source": [
    "## while loops\n",
    "\n",
    "while loops are based on conditions of data rather than counting or iterating through data step by step, but rather interpreting overall condition - see health example"
   ]
  },
  {
   "cell_type": "code",
   "execution_count": null,
   "id": "48020c81",
   "metadata": {},
   "outputs": [
    {
     "name": "stdout",
     "output_type": "stream",
     "text": [
      "10\n",
      "9\n",
      "8\n",
      "7\n",
      "6\n",
      "5\n",
      "4\n",
      "3\n",
      "2\n",
      "1\n"
     ]
    }
   ],
   "source": [
    "# game player health in while loop video game\n",
    "\n",
    "health = 10\n",
    "while health > 0:\n",
    "    print(health)\n",
    "    health -= 1 #forgetting this line will create infinite loop as needs to count down\n",
    "\n"
   ]
  },
  {
   "cell_type": "markdown",
   "id": "ce0e900b",
   "metadata": {},
   "source": [
    "\n",
    "\n",
    "\n",
    "When using nested loops, the inner loop must always finish running, before the outer loop can continue."
   ]
  },
  {
   "cell_type": "code",
   "execution_count": null,
   "id": "e2421078",
   "metadata": {},
   "outputs": [
    {
     "name": "stdout",
     "output_type": "stream",
     "text": [
      "0 0\n",
      "0 1\n",
      "0 2\n",
      "1 0\n",
      "1 1\n",
      "1 2\n"
     ]
    }
   ],
   "source": [
    "#loop within a loop\n",
    "\n",
    "for i in range(2):\n",
    "    for j in range(3): #inner loop\n",
    "        print(i,j)"
   ]
  },
  {
   "cell_type": "markdown",
   "id": "07bd70ac",
   "metadata": {},
   "source": [
    "WEDNESDAY EXERCISES\n",
    "1. User Input: Write a while loop that continues to ask for user input and runs\n",
    "until they type “quit”.\n",
    "2. Double Loop: Write a for loop within a while loop that will count from 0 to 5,\n",
    "but when it reaches 3, it sets a game_over variable to True and breaks out of\n",
    "the loop. The while loop should continue to loop until game_over is True. The\n",
    "output should only be 0, 1, 2."
   ]
  },
  {
   "cell_type": "code",
   "execution_count": 13,
   "id": "a327e6c7",
   "metadata": {},
   "outputs": [],
   "source": [
    "word = input(\"what is next word?\").casefold()\n",
    "while word == True:\n",
    "    print(word)\n"
   ]
  },
  {
   "cell_type": "code",
   "execution_count": 11,
   "id": "5f002f7e",
   "metadata": {},
   "outputs": [
    {
     "ename": "TypeError",
     "evalue": "'<' not supported between instances of 'range' and 'int'",
     "output_type": "error",
     "traceback": [
      "\u001b[1;31m---------------------------------------------------------------------------\u001b[0m",
      "\u001b[1;31mTypeError\u001b[0m                                 Traceback (most recent call last)",
      "Cell \u001b[1;32mIn[11], line 2\u001b[0m\n\u001b[0;32m      1\u001b[0m game_over \u001b[38;5;241m=\u001b[39m \u001b[38;5;28mrange\u001b[39m(\u001b[38;5;241m6\u001b[39m)\n\u001b[1;32m----> 2\u001b[0m \u001b[38;5;28;01mwhile\u001b[39;00m game_over \u001b[38;5;241m<\u001b[39m \u001b[38;5;241m3\u001b[39m:\n\u001b[0;32m      3\u001b[0m     \u001b[38;5;28mprint\u001b[39m(game_over)\n",
      "\u001b[1;31mTypeError\u001b[0m: '<' not supported between instances of 'range' and 'int'"
     ]
    }
   ],
   "source": [
    "game_over = range(6)\n",
    "while game_over < 3:\n",
    "    print(game_over)\n"
   ]
  },
  {
   "cell_type": "code",
   "execution_count": null,
   "id": "5c349466",
   "metadata": {},
   "outputs": [],
   "source": []
  }
 ],
 "metadata": {
  "kernelspec": {
   "display_name": "base",
   "language": "python",
   "name": "python3"
  },
  "language_info": {
   "codemirror_mode": {
    "name": "ipython",
    "version": 3
   },
   "file_extension": ".py",
   "mimetype": "text/x-python",
   "name": "python",
   "nbconvert_exporter": "python",
   "pygments_lexer": "ipython3",
   "version": "3.12.7"
  }
 },
 "nbformat": 4,
 "nbformat_minor": 5
}
